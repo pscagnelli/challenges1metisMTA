{
 "cells": [
  {
   "cell_type": "code",
   "execution_count": 1,
   "metadata": {},
   "outputs": [],
   "source": [
    "import pandas as pd\n",
    "import numpy as np\n",
    "import matplotlib.pyplot as plt\n",
    "%matplotlib inline\n",
    "import seaborn as sns\n",
    "sns.set()\n",
    "from datetime import datetime as dt\n",
    "pd.set_option('display.max_rows', 500)"
   ]
  },
  {
   "cell_type": "code",
   "execution_count": 2,
   "metadata": {},
   "outputs": [],
   "source": [
    "\"\"\"Challenge 1\"\"\"\n",
    "\n",
    "\n",
    "def get_data(week_nums):\n",
    "    url = \"http://web.mta.info/developers/data/nyct/turnstile/turnstile_{}.txt\"\n",
    "    dfs = []\n",
    "    for week_num in week_nums:\n",
    "        file_url = url.format(week_num)\n",
    "        dfs.append(pd.read_csv(file_url))\n",
    "    return pd.concat(dfs)\n",
    "        \n",
    "week_nums = [190105, 190112, 190119, 190126, 190202, 190209, 190216, 190223, 190302, 190309, 190316, 190323, 190330, 190406, 190413, 190420, 190427, 190504, 190511, 190518, 190525, 190601, 190608, 190615, 190622, 190629, 190706, 190713, 190720, 190727, 190803, 190810, 190817, 190824, 190831]\n",
    "turnstiles_df = get_data(week_nums)"
   ]
  },
  {
   "cell_type": "code",
   "execution_count": 3,
   "metadata": {},
   "outputs": [],
   "source": [
    "\"\"\"Challenge 2\"\"\"\n",
    "turnstiles_df[\"DATE_TIME\"] = pd.to_datetime(turnstiles_df.DATE + \" \" + turnstiles_df.TIME, format=\"%m/%d/%Y %H:%M:%S\")\n",
    "turnstiles_df[\"TURNSTILE\"] = turnstiles_df[\"C/A\"]+turnstiles_df[\"UNIT\"]+turnstiles_df[\"SCP\"]+turnstiles_df[\"STATION\"]\n",
    "turnstiles_df.columns = [column.strip() for column in turnstiles_df.columns]\n",
    "turnstiles_df = turnstiles_df.reset_index(drop=True)"
   ]
  },
  {
   "cell_type": "code",
   "execution_count": 4,
   "metadata": {},
   "outputs": [],
   "source": [
    "index_names = turnstiles_df[ (turnstiles_df['DATE_TIME'].dt.minute != 0) | (turnstiles_df['DATE_TIME'].dt.second != 0)].index\n",
    "turnstiles_df['DAY'] = turnstiles_df['DATE_TIME'].dt.dayofweek\n",
    "turnstiles_df['TIME'] = turnstiles_df['DATE_TIME'].dt.time\n",
    "turnstiles_df['MONTH'] = turnstiles_df['DATE_TIME'].dt.month\n",
    "turnstiles_df.drop(index_names, inplace = True)"
   ]
  },
  {
   "cell_type": "code",
   "execution_count": 6,
   "metadata": {},
   "outputs": [
    {
     "ename": "AttributeError",
     "evalue": "'DataFrameGroupBy' object has no attribute 'groupby'",
     "output_type": "error",
     "traceback": [
      "\u001b[0;31m---------------------------------------------------------------------------\u001b[0m",
      "\u001b[0;31mAttributeError\u001b[0m                            Traceback (most recent call last)",
      "\u001b[0;32m<ipython-input-6-7e821d40afed>\u001b[0m in \u001b[0;36m<module>\u001b[0;34m\u001b[0m\n\u001b[1;32m      9\u001b[0m \u001b[0;34m\u001b[0m\u001b[0m\n\u001b[1;32m     10\u001b[0m \u001b[0;34m\"\"\"Challenge 5\"\"\"\u001b[0m\u001b[0;34m\u001b[0m\u001b[0;34m\u001b[0m\u001b[0m\n\u001b[0;32m---> 11\u001b[0;31m \u001b[0mturnstiles_grouped_turnstiles\u001b[0m \u001b[0;34m=\u001b[0m \u001b[0mturnstiles_grouped\u001b[0m\u001b[0;34m.\u001b[0m\u001b[0mgroupby\u001b[0m\u001b[0;34m(\u001b[0m\u001b[0mcols\u001b[0m \u001b[0;34m=\u001b[0m \u001b[0;34m\"\"\u001b[0m\u001b[0;34m)\u001b[0m\u001b[0;34m\u001b[0m\u001b[0;34m\u001b[0m\u001b[0m\n\u001b[0m",
      "\u001b[0;32m~/opt/anaconda3/lib/python3.8/site-packages/pandas/core/groupby/groupby.py\u001b[0m in \u001b[0;36m__getattr__\u001b[0;34m(self, attr)\u001b[0m\n\u001b[1;32m    578\u001b[0m             \u001b[0;32mreturn\u001b[0m \u001b[0mself\u001b[0m\u001b[0;34m[\u001b[0m\u001b[0mattr\u001b[0m\u001b[0;34m]\u001b[0m\u001b[0;34m\u001b[0m\u001b[0;34m\u001b[0m\u001b[0m\n\u001b[1;32m    579\u001b[0m \u001b[0;34m\u001b[0m\u001b[0m\n\u001b[0;32m--> 580\u001b[0;31m         raise AttributeError(\n\u001b[0m\u001b[1;32m    581\u001b[0m             \u001b[0;34mf\"'{type(self).__name__}' object has no attribute '{attr}'\"\u001b[0m\u001b[0;34m\u001b[0m\u001b[0;34m\u001b[0m\u001b[0m\n\u001b[1;32m    582\u001b[0m         )\n",
      "\u001b[0;31mAttributeError\u001b[0m: 'DataFrameGroupBy' object has no attribute 'groupby'"
     ]
    }
   ],
   "source": [
    "\n",
    "\"\"\"Challenge 3\"\"\"\n",
    "\n",
    "turnstiles_df_sorted = turnstiles_df.sort_values(['TURNSTILE', 'DATE_TIME'])\n",
    "turnstiles_df_sorted = turnstiles_df_sorted.reset_index(drop = True)\n",
    "turnstiles_grouped = turnstiles_df_sorted.groupby(['TURNSTILE'])\n",
    "\"\"\"Challenge 4\"\"\"\n",
    "turnstiles_df_sorted['DAILY_ENTRIES'] = turnstiles_grouped['ENTRIES'].transform(pd.Series.diff)\n",
    "turnstiles_df_sorted['DAILY_EXITS'] = turnstiles_grouped['EXITS'].transform(pd.Series.diff)\n",
    "\n",
    "\"\"\"Challenge 5\"\"\"\n",
    "turnstiles_grouped_turnstiles = turnstiles_grouped.groupby(cols = \"\")"
   ]
  },
  {
   "cell_type": "code",
   "execution_count": null,
   "metadata": {},
   "outputs": [],
   "source": [
    "\"\"\"Challenge 6 and 7\"\"\"\n",
    "daily_traffic_series = turnstiles_df_sorted.groupby(['DAY','STATION']).sum().reset_index()\n",
    "#daily_traffic_series['DATE'] = pd.to_datetime(daily_traffic_series['DATE'], format = '%m/%d/%Y')\n",
    "daily_traffic_series.index = daily_traffic_series['DAY']\n",
    "daily_traffic_series\n",
    "series = daily_traffic_series['DAILY_ENTRIES'][daily_traffic_series['STATION']  == '34 ST-PENN STA']\n",
    "series1 = daily_traffic_series['DAILY_ENTRIES'][daily_traffic_series['STATION'] == '86 ST']\n",
    "series2 = daily_traffic_series['DAILY_ENTRIES'][daily_traffic_series['STATION'] == '125 ST']\n",
    "series3 = daily_traffic_series['DAILY_ENTRIES'][daily_traffic_series['STATION'] == '23 ST']\n",
    "series4 = daily_traffic_series['DAILY_ENTRIES'][daily_traffic_series['STATION'] == 'FULTON ST']\n",
    "series5 = daily_traffic_series['DAILY_ENTRIES'][daily_traffic_series['STATION'] == '34 ST-HERALD SQ']\n",
    "series6 = daily_traffic_series['DAILY_ENTRIES'][daily_traffic_series['STATION'] == '14 ST-UNION SQ']\n",
    "series7 = daily_traffic_series['DAILY_ENTRIES'][daily_traffic_series['STATION'] == 'GRD CNTRL-42 ST']\n",
    "series8 = daily_traffic_series['DAILY_ENTRIES'][daily_traffic_series['STATION'] == '42 ST-PORT AUTH']\n",
    "series9 = daily_traffic_series['DAILY_ENTRIES'][daily_traffic_series['STATION'] == 'TIMES SQ-42 ST']\n",
    "series.plot()\n",
    "series1.plot()\n",
    "series2.plot()\n",
    "series3.plot()\n",
    "series4.plot()\n",
    "series5.plot()\n",
    "series6.plot()\n",
    "series7.plot()\n",
    "series8.plot()\n",
    "series9.plot()\n",
    "ticks_x = np.linspace(0, 6, 7)\n",
    "days = ['M','T','W','Th','F','Sa','Su']\n",
    "plt.title('Total Daily Entries by Day of the Week',fontsize = 20, weight = 'bold',color='black')\n",
    "plt.ylabel('Total Daily Entries (in Millions)',fontsize = 20, weight = 'bold',color='black');\n",
    "plt.xlabel('Day of the Week',fontsize = 20, weight = 'bold',color='black');\n",
    "plt.xticks(ticks_x,days,fontsize = 10, weight = 'bold',color='blue')\n",
    "plt.yticks(fontsize = 10, weight = 'bold',color='blue')\n",
    "plt.legend(['34 ST-PENN STA','86 ST','125 ST','23 ST','FULTON ST','34 ST-HERALD SQ','14 ST-UNION SQ','GRD CNTRL-42 ST','42 ST-PORT AUTH','TIMES SQ-42 ST'],loc='upper center', bbox_to_anchor=(1.45, 0.8), shadow=True, ncol=1)\n",
    "plt.savefig(\"weekly_chart.png\",dpi=300, bbox_inches='tight')\n",
    "\n",
    "\n",
    "\"\"\"Challenge 8\"\"\"\n",
    "\n",
    "\"\"\"Challenge 9\"\"\"\n",
    "top_stations = turnstiles_df_sorted.groupby('STATION')['DAILY_ENTRIES'].sum().reset_index()\n",
    "top_stations = top_stations.sort_values('DAILY_ENTRIES',ascending=False).head(10).set_index('STATION')\n",
    "\n",
    "\n",
    "\n",
    "\"\"\"Challenge 10\"\"\"\n",
    "\n",
    "\n",
    "top_stations.plot( kind=\"bar\", color='blue')\n",
    "plt.title('Top MTA Stations by Entries',fontsize = 20, weight = 'bold',color='black')\n",
    "plt.ylabel('Entries (in Tens of Millions)',fontsize = 20, weight = 'bold',color='black');\n",
    "plt.xlabel('Stations',fontsize = 20, weight = 'bold',color='black');\n",
    "plt.xticks(fontsize = 10, weight = 'bold',color='blue')\n",
    "plt.yticks(fontsize = 10, weight = 'bold',color='blue')\n",
    "plt.savefig(\"top_station_entries.png\",dpi=300, bbox_inches='tight')"
   ]
  }
 ],
 "metadata": {
  "kernelspec": {
   "display_name": "Python 3",
   "language": "python",
   "name": "python3"
  },
  "language_info": {
   "codemirror_mode": {
    "name": "ipython",
    "version": 3
   },
   "file_extension": ".py",
   "mimetype": "text/x-python",
   "name": "python",
   "nbconvert_exporter": "python",
   "pygments_lexer": "ipython3",
   "version": "3.8.3"
  }
 },
 "nbformat": 4,
 "nbformat_minor": 4
}
